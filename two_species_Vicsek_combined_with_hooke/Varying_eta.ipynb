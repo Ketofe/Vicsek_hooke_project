{
 "cells": [
  {
   "cell_type": "code",
   "execution_count": 1,
   "id": "dd4833f6-1b86-41c3-b569-d65a80e4d6a0",
   "metadata": {},
   "outputs": [],
   "source": [
    "import File_for_accesing_src\n",
    "from Standard_parameters import *\n",
    "from Vicsek_hooke import *\n",
    "import numpy as np\n",
    "import matplotlib.pyplot as plt\n",
    "from Quiver import *\n",
    "from tqdm import tqdm"
   ]
  },
  {
   "cell_type": "code",
   "execution_count": 4,
   "id": "a36ef49d-8c14-4647-9c1b-62bdae649fb8",
   "metadata": {},
   "outputs": [
    {
     "name": "stderr",
     "output_type": "stream",
     "text": [
      "10it [3:09:12, 1135.27s/it]\n"
     ]
    }
   ],
   "source": [
    "#Varying the eta\n",
    "eta_list=np.linspace(0,np.pi/2,10)\n",
    "pos_for_different_eta=np.zeros([len(eta_list),iterations,N,2 ])\n",
    "theta_for_different_eta=np.zeros([len(eta_list),iterations,N ])\n",
    "for n, eta in tqdm(enumerate(eta_list)):\n",
    "    pos,theta=Vicsek_hooke(v_0,eta,r, N,L,iterations,s,k,l)\n",
    "    pos_for_different_eta[n]=pos\n",
    "    theta_for_different_eta[n]=theta\n",
    "np.save(\"Data/pos_with_different_eta\" ,pos_for_different_eta)\n",
    "np.save(\"Data/theta_with_different_eta\" ,theta_for_different_eta)\n"
   ]
  },
  {
   "cell_type": "code",
   "execution_count": 3,
   "id": "001d3435-9351-49cf-8a6b-367c8e1c85dd",
   "metadata": {},
   "outputs": [
    {
     "data": {
      "text/plain": [
       "<matplotlib.animation.FuncAnimation at 0x18b44c23a10>"
      ]
     },
     "execution_count": 3,
     "metadata": {},
     "output_type": "execute_result"
    }
   ],
   "source": [
    "from Animate_c import *\n",
    "pos_for_different_eta=np.load(\"Data/pos_with_different_eta.npy\")\n",
    "theta_for_different_eta=np.load(\"Data/theta_with_different_eta.npy\")\n",
    "%matplotlib qt\n",
    "i=-1\n",
    "Animate_c(pos_for_different_eta[i],theta_for_different_eta[i],['blue','red'],[0.5,0.5],1000,100)"
   ]
  },
  {
   "cell_type": "code",
   "execution_count": 5,
   "id": "59e8f423-cbd8-41e6-ae89-b42a9939badd",
   "metadata": {},
   "outputs": [
    {
     "data": {
      "text/plain": [
       "array([1.5, 2.5])"
      ]
     },
     "execution_count": 5,
     "metadata": {},
     "output_type": "execute_result"
    }
   ],
   "source": [
    "np.average([[1,2],[2,3] ],axis=0)"
   ]
  },
  {
   "cell_type": "code",
   "execution_count": null,
   "id": "9b4f7472-fe7d-4bb8-9f4b-c27d322f9f3f",
   "metadata": {},
   "outputs": [],
   "source": []
  }
 ],
 "metadata": {
  "kernelspec": {
   "display_name": "Python 3 (ipykernel)",
   "language": "python",
   "name": "python3"
  },
  "language_info": {
   "codemirror_mode": {
    "name": "ipython",
    "version": 3
   },
   "file_extension": ".py",
   "mimetype": "text/x-python",
   "name": "python",
   "nbconvert_exporter": "python",
   "pygments_lexer": "ipython3",
   "version": "3.12.4"
  }
 },
 "nbformat": 4,
 "nbformat_minor": 5
}

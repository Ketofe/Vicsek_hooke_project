{
 "cells": [
  {
   "cell_type": "code",
   "execution_count": 2,
   "id": "aafb190e-ca20-4c82-8763-1f2f5ea1aee8",
   "metadata": {},
   "outputs": [],
   "source": [
    "import File_for_accesing_src\n",
    "from Standard_parameters import *\n",
    "from Vicsek_hooke import *\n",
    "import numpy as np\n",
    "import matplotlib.pyplot as plt\n",
    "from Quiver import *\n",
    "from tqdm import tqdm"
   ]
  },
  {
   "cell_type": "code",
   "execution_count": 5,
   "id": "ce9f9247-b581-423d-b940-0005f03bd10e",
   "metadata": {},
   "outputs": [
    {
     "name": "stderr",
     "output_type": "stream",
     "text": [
      "10it [39:16:53, 14141.35s/it]\n"
     ]
    }
   ],
   "source": [
    "#Generate data\n",
    "k_list2=np.linspace(0.001,0.01,10)\n",
    "v_list=np.linspace(0.01,0.3,10)\n",
    "pos_for_different_v_and_k=np.zeros([len(v_list), len(k_list2), iterations,N,2 ])\n",
    "theta_for_different_v_and_k=np.zeros([len(v_list),len(k_list2),iterations,N ])\n",
    "\n",
    "for v_index , v_0 in tqdm(enumerate(v_list)):\n",
    "             for k_index, q in enumerate(k_list2):\n",
    "                           s,k=Create_groups([ [ [1,q ], [-1,q ]  ],[[-1,q ],[1,q ]]   ],N)\n",
    "                           pos,theta=Vicsek_hooke(v_0,eta,r, N,L,iterations,s,k,l)\n",
    "                           pos_for_different_v_and_k[v_index][k_index]=pos\n",
    "                           theta_for_different_v_and_k[v_index][k_index]=theta\n",
    "                           np.save(\"Data/pos_with_different_v_and_k\" ,pos_for_different_v_and_k)\n",
    "                           np.save(\"Data/theta_with_different_v_and_k\" ,theta_for_different_v_and_k)"
   ]
  },
  {
   "cell_type": "code",
   "execution_count": 27,
   "id": "fc134c31-f641-4184-adf4-244e09698ab4",
   "metadata": {},
   "outputs": [
    {
     "data": {
      "text/plain": [
       "<matplotlib.animation.FuncAnimation at 0x1f3b8ff0320>"
      ]
     },
     "execution_count": 27,
     "metadata": {},
     "output_type": "execute_result"
    }
   ],
   "source": [
    "\n",
    "#Load data\n",
    "pos=np.load(\"Data/pos_with_different_v_and_k.npy\", mmap_mode='r')\n",
    "theta=np.load(\"Data/theta_with_different_v_and_k.npy\", mmap_mode='r')\n",
    "from Animate_c import *\n",
    "%matplotlib qt\n",
    "v_index=1\n",
    "k_index=4\n",
    "Animate_c(pos[v_index][k_index],theta[v_index][k_index],['blue','red'],[0.5,0.5],1000,50)"
   ]
  },
  {
   "cell_type": "code",
   "execution_count": null,
   "id": "3827be08-006e-4892-821b-bf78d1844a96",
   "metadata": {},
   "outputs": [],
   "source": []
  }
 ],
 "metadata": {
  "kernelspec": {
   "display_name": "Python 3 (ipykernel)",
   "language": "python",
   "name": "python3"
  },
  "language_info": {
   "codemirror_mode": {
    "name": "ipython",
    "version": 3
   },
   "file_extension": ".py",
   "mimetype": "text/x-python",
   "name": "python",
   "nbconvert_exporter": "python",
   "pygments_lexer": "ipython3",
   "version": "3.12.4"
  }
 },
 "nbformat": 4,
 "nbformat_minor": 5
}
